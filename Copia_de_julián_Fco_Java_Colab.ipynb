{
  "nbformat": 4,
  "nbformat_minor": 0,
  "metadata": {
    "colab": {
      "provenance": [],
      "collapsed_sections": [],
      "include_colab_link": true
    },
    "kernelspec": {
      "name": "java",
      "display_name": "Java"
    }
  },
  "cells": [
    {
      "cell_type": "markdown",
      "metadata": {
        "id": "view-in-github",
        "colab_type": "text"
      },
      "source": [
        "<a href=\"https://colab.research.google.com/github/Juls01800/Juls01800.github.io/blob/main/Copia_de_juli%C3%A1n_Fco_Java_Colab.ipynb\" target=\"_parent\"><img src=\"https://colab.research.google.com/assets/colab-badge.svg\" alt=\"Open In Colab\"/></a>"
      ]
    },
    {
      "cell_type": "markdown",
      "metadata": {
        "id": "CBWQIvc0Ov3P"
      },
      "source": [
        "# Prepare Java Kernel for Google Colab\n",
        "This notebook is a template to use Java in Google Colaboratory (inspired by [Google Colab Javascript QuickStart](https://dev.to/obenjiro/silence-of-the-fans-part-1-javascript-quickstart-5f3m)). It uses [IJava](https://github.com/SpencerPark/IJava) as the Jupyter Kernel.\n",
        "1. Run the cell bellow (click it and press `Shift`+`Enter`),\n",
        "2. then refresh the page (press `F5`) right after that.\n",
        "\n",
        "Now you can write Java code. See examples in the next section."
      ]
    },
    {
      "cell_type": "code",
      "metadata": {
        "id": "RwIAuN1IKtUo",
        "outputId": "18fce073-824b-4892-8b78-8cc13b94396d",
        "colab": {
          "base_uri": "https://localhost:8080/"
        }
      },
      "source": [
        "!apt update -q\n",
        "!apt-get install -q openjdk-11-jdk-headless\n",
        "!curl -L https://github.com/SpencerPark/IJava/releases/download/v1.3.0/ijava-1.3.0.zip -o ijava-kernel.zip\n",
        "!unzip -q ijava-kernel.zip -d ijava-kernel && cd ijava-kernel && python3 install.py --sys-prefix\n",
        "!jupyter kernelspec list"
      ],
      "execution_count": null,
      "outputs": [
        {
          "output_type": "stream",
          "name": "stdout",
          "text": [
            "Get:1 https://cloud.r-project.org/bin/linux/ubuntu bionic-cran40/ InRelease [3,626 B]\n",
            "Ign:2 https://developer.download.nvidia.com/compute/machine-learning/repos/ubuntu1804/x86_64  InRelease\n",
            "Hit:3 https://developer.download.nvidia.com/compute/cuda/repos/ubuntu1804/x86_64  InRelease\n",
            "Hit:4 https://developer.download.nvidia.com/compute/machine-learning/repos/ubuntu1804/x86_64  Release\n",
            "Get:5 http://ppa.launchpad.net/c2d4u.team/c2d4u4.0+/ubuntu bionic InRelease [15.9 kB]\n",
            "Get:6 http://security.ubuntu.com/ubuntu bionic-security InRelease [88.7 kB]\n",
            "Hit:7 http://archive.ubuntu.com/ubuntu bionic InRelease\n",
            "Get:8 http://archive.ubuntu.com/ubuntu bionic-updates InRelease [88.7 kB]\n",
            "Get:9 https://cloud.r-project.org/bin/linux/ubuntu bionic-cran40/ Packages [92.1 kB]\n",
            "Hit:10 http://ppa.launchpad.net/cran/libgit2/ubuntu bionic InRelease\n",
            "Get:11 http://archive.ubuntu.com/ubuntu bionic-backports InRelease [74.6 kB]\n",
            "Hit:12 http://ppa.launchpad.net/deadsnakes/ppa/ubuntu bionic InRelease\n",
            "Hit:14 http://ppa.launchpad.net/graphics-drivers/ppa/ubuntu bionic InRelease\n",
            "Get:15 http://ppa.launchpad.net/c2d4u.team/c2d4u4.0+/ubuntu bionic/main Sources [2,108 kB]\n",
            "Get:16 http://security.ubuntu.com/ubuntu bionic-security/main amd64 Packages [2,989 kB]\n",
            "Get:17 http://security.ubuntu.com/ubuntu bionic-security/restricted amd64 Packages [1,161 kB]\n",
            "Get:18 http://security.ubuntu.com/ubuntu bionic-security/universe amd64 Packages [1,545 kB]\n",
            "Get:19 http://ppa.launchpad.net/c2d4u.team/c2d4u4.0+/ubuntu bionic/main amd64 Packages [1,080 kB]\n",
            "Get:20 http://archive.ubuntu.com/ubuntu bionic-updates/main amd64 Packages [3,421 kB]\n",
            "Get:21 http://archive.ubuntu.com/ubuntu bionic-updates/restricted amd64 Packages [1,202 kB]\n",
            "Get:22 http://archive.ubuntu.com/ubuntu bionic-updates/universe amd64 Packages [2,322 kB]\n",
            "Fetched 16.2 MB in 5s (3,088 kB/s)\n",
            "Reading package lists...\n",
            "Building dependency tree...\n",
            "Reading state information...\n",
            "38 packages can be upgraded. Run 'apt list --upgradable' to see them.\n",
            "Reading package lists...\n",
            "Building dependency tree...\n",
            "Reading state information...\n",
            "openjdk-11-jdk-headless is already the newest version (11.0.16+8-0ubuntu1~18.04).\n",
            "The following package was automatically installed and is no longer required:\n",
            "  libnvidia-common-460\n",
            "Use 'apt autoremove' to remove it.\n",
            "0 upgraded, 0 newly installed, 0 to remove and 38 not upgraded.\n",
            "  % Total    % Received % Xferd  Average Speed   Time    Time     Time  Current\n",
            "                                 Dload  Upload   Total   Spent    Left  Speed\n",
            "  0     0    0     0    0     0      0      0 --:--:-- --:--:-- --:--:--     0\n",
            "100 3287k  100 3287k    0     0  7940k      0 --:--:-- --:--:-- --:--:-- 16.2M\n",
            "install.py:169: DeprecationWarning: replace is ignored. Installing a kernelspec always replaces an existing installation\n",
            "  replace=args.replace\n",
            "Installed java kernel into \"/usr/share/jupyter/kernels/java\"\n",
            "Available kernels:\n",
            "  ir         /usr/local/share/jupyter/kernels/ir\n",
            "  python3    /usr/local/share/jupyter/kernels/python3\n",
            "  java       /usr/share/jupyter/kernels/java\n"
          ]
        }
      ]
    },
    {
      "cell_type": "code",
      "source": [
        "!ls "
      ],
      "metadata": {
        "colab": {
          "base_uri": "https://localhost:8080/"
        },
        "id": "i8W8k2e3-WO3",
        "outputId": "7915eb2b-6d50-45c8-c7bd-2f520cea7c24"
      },
      "execution_count": null,
      "outputs": [
        {
          "output_type": "stream",
          "name": "stdout",
          "text": [
            "docs  programas  sample_data\n"
          ]
        }
      ]
    },
    {
      "cell_type": "code",
      "source": [
        "System.out.println(\"buenos dias: Julian\")"
      ],
      "metadata": {
        "colab": {
          "base_uri": "https://localhost:8080/"
        },
        "id": "7lAyiyZXrW-f",
        "outputId": "34011d69-e787-4ca1-d1a7-11243a5f79ad"
      },
      "execution_count": null,
      "outputs": [
        {
          "output_type": "stream",
          "name": "stdout",
          "text": [
            "buenos dias: Julian\n"
          ]
        }
      ]
    },
    {
      "cell_type": "code",
      "source": [
        "int y = 8;\n",
        "int z = 9;\n",
        "System.out.println(y);\n",
        "System.out.println(z);"
      ],
      "metadata": {
        "colab": {
          "base_uri": "https://localhost:8080/"
        },
        "outputId": "909f8d0f-4ddf-42ee-f140-cb109c9eec9f",
        "id": "im00pqbUxp-F"
      },
      "execution_count": null,
      "outputs": [
        {
          "output_type": "stream",
          "name": "stdout",
          "text": [
            "8\n",
            "9\n"
          ]
        }
      ]
    },
    {
      "cell_type": "code",
      "source": [
        "int x = 3;\n",
        "y = x * 2;\n",
        "z = x * 3;\n",
        "System.out.println(x);\n",
        "System.out.println(y);\n",
        "System.out.println(z);"
      ],
      "metadata": {
        "colab": {
          "base_uri": "https://localhost:8080/"
        },
        "id": "Y8mzx-gQ0geD",
        "outputId": "55499a9f-185c-465f-eba4-929162f8a4d7"
      },
      "execution_count": null,
      "outputs": [
        {
          "output_type": "stream",
          "name": "stdout",
          "text": [
            "3\n",
            "6\n",
            "9\n"
          ]
        }
      ]
    },
    {
      "cell_type": "code",
      "source": [
        "int x = 7;\n",
        "y = 32 + ( 9 * x / 5);\n",
        "System.out.println(y);"
      ],
      "metadata": {
        "colab": {
          "base_uri": "https://localhost:8080/"
        },
        "id": "Di-TZSm12tMo",
        "outputId": "6f5c218e-bb77-47f9-e90a-863faf19f816"
      },
      "execution_count": null,
      "outputs": [
        {
          "output_type": "stream",
          "name": "stdout",
          "text": [
            "44\n"
          ]
        }
      ]
    },
    {
      "cell_type": "code",
      "source": [
        "double radio, area, longitud;\n",
        "radio = 8.0;\n",
        "area = 3.141592 * (radio * radio);\n",
        "longitud = 2 * 3.141592 * radio;\n",
        "\n",
        "System.out.println(area);\n",
        "System.out.println(longitud);"
      ],
      "metadata": {
        "colab": {
          "base_uri": "https://localhost:8080/"
        },
        "id": "97PBLDesxQbN",
        "outputId": "c35cc8a9-a952-4a7c-f3a9-7ef54426dd3b"
      },
      "execution_count": null,
      "outputs": [
        {
          "output_type": "stream",
          "name": "stdout",
          "text": [
            "201.061888\n",
            "50.265472\n"
          ]
        }
      ]
    },
    {
      "cell_type": "code",
      "source": [
        "int x = 8;\n",
        "y = (x * 1000)/3600;\n",
        "System.out.println(y);"
      ],
      "metadata": {
        "colab": {
          "base_uri": "https://localhost:8080/"
        },
        "id": "BvA6lEz99mpS",
        "outputId": "65e6f84c-d1fc-47ef-e151-72d36246e70d"
      },
      "execution_count": null,
      "outputs": [
        {
          "output_type": "stream",
          "name": "stdout",
          "text": [
            "2\n"
          ]
        }
      ]
    },
    {
      "cell_type": "code",
      "source": [
        "int z = 4;\n",
        "int y = 3;\n",
        "x = (z * z + y * y)/5;\n",
        "System.out.println(x);"
      ],
      "metadata": {
        "colab": {
          "base_uri": "https://localhost:8080/"
        },
        "id": "iOO-JIXq7Ag2",
        "outputId": "f93ee423-080f-46b3-a29c-69b3bf802d28"
      },
      "execution_count": null,
      "outputs": [
        {
          "output_type": "stream",
          "name": "stdout",
          "text": [
            "5\n"
          ]
        }
      ]
    },
    {
      "cell_type": "code",
      "source": [
        "double radio, volumen;\n",
        "radio = 9.0;\n",
        "volumen = 1.33 * (3.141592 * radio * radio * radio);\n",
        "System.out.println(volumen);"
      ],
      "metadata": {
        "colab": {
          "base_uri": "https://localhost:8080/"
        },
        "id": "psAKL0gt5as6",
        "outputId": "8a6bf22a-ab23-465f-b12c-5a16df818ef1"
      },
      "execution_count": null,
      "outputs": [
        {
          "output_type": "stream",
          "name": "stdout",
          "text": [
            "3045.9933554400004\n"
          ]
        }
      ]
    },
    {
      "cell_type": "markdown",
      "source": [
        "**Adolfo**\n",
        "*adsoft@live.com.mx*\n"
      ],
      "metadata": {
        "id": "Oa8ikdT4_kTh"
      }
    },
    {
      "cell_type": "markdown",
      "metadata": {
        "id": "USI3wh5pQEmg"
      },
      "source": [
        "# Examples"
      ]
    },
    {
      "cell_type": "code",
      "source": [
        "// Your First Program\n",
        "\n",
        "class HelloWorld {\n",
        "    public static void main(String[] args) {\n",
        "        System.out.println(\"Hello, World!\"); \n",
        "    }\n",
        "}\n",
        "\n"
      ],
      "metadata": {
        "id": "lTb_hqSP4J0K"
      },
      "execution_count": null,
      "outputs": []
    },
    {
      "cell_type": "markdown",
      "source": [
        "Holamundo.java\n",
        "\n",
        "Author: Adolfo\n",
        "\n",
        "Fecha: 06-sep-2022\n",
        "\n",
        "Ixtac Ver.\n"
      ],
      "metadata": {
        "id": "1WPztgbCHrue"
      }
    },
    {
      "cell_type": "code",
      "metadata": {
        "id": "lO1aYxJrQHX0",
        "outputId": "ab922177-cf2e-429a-f61a-57376b15ded3",
        "colab": {
          "base_uri": "https://localhost:8080/"
        }
      },
      "source": [
        "System.out.println(\"Hello world ....\")"
      ],
      "execution_count": null,
      "outputs": [
        {
          "output_type": "stream",
          "name": "stdout",
          "text": [
            "Hello world ....\n"
          ]
        }
      ]
    },
    {
      "cell_type": "markdown",
      "source": [
        "HolaUniverso.java\n",
        "...\n",
        "...\n"
      ],
      "metadata": {
        "id": "MPmOyK9MIxjx"
      }
    },
    {
      "cell_type": "code",
      "source": [
        "System.out.println(\"Hola universo ....\")"
      ],
      "metadata": {
        "colab": {
          "base_uri": "https://localhost:8080/"
        },
        "id": "Ey5KXrWwI2wH",
        "outputId": "085ef1ab-ee02-4a54-ab4b-ba755f4748cd"
      },
      "execution_count": null,
      "outputs": [
        {
          "output_type": "stream",
          "name": "stdout",
          "text": [
            "Hola universo ....\n"
          ]
        }
      ]
    },
    {
      "cell_type": "markdown",
      "source": [
        "suma.java\n",
        "Author:\n",
        "\n",
        "Descripcion:\n",
        "\n",
        "Resuelve la ecuacion:\n",
        "\n",
        "x = y + z\n",
        "\n",
        "10 = 5 + 5"
      ],
      "metadata": {
        "id": "VcP46RauJUjK"
      }
    },
    {
      "cell_type": "code",
      "source": [
        "int y = 15;\n",
        "int z = -5;\n",
        "int x = y + z;\n",
        "System.out.println(y);\n",
        "System.out.println(z);\n",
        "System.out.println(x);"
      ],
      "metadata": {
        "colab": {
          "base_uri": "https://localhost:8080/"
        },
        "id": "zyZ0c_oYJmaS",
        "outputId": "f4cf61b2-9410-4333-f63a-c93acfcdb4c4"
      },
      "execution_count": null,
      "outputs": [
        {
          "output_type": "stream",
          "name": "stdout",
          "text": [
            "15\n",
            "-5\n",
            "10\n"
          ]
        }
      ]
    },
    {
      "cell_type": "markdown",
      "source": [
        "triangulo.java\n",
        "Resolver el area de un triangulo\n",
        "\n",
        "a = (b * h) / 2\n"
      ],
      "metadata": {
        "id": "7Y9iPgNlK_kl"
      }
    },
    {
      "cell_type": "code",
      "source": [
        "double a;\n",
        "double b=5.0;\n",
        "double h=2.3;\n",
        "a = (b * h) / 2;\n",
        "System.out.println(a);"
      ],
      "metadata": {
        "colab": {
          "base_uri": "https://localhost:8080/"
        },
        "id": "iPW-xGshLLQp",
        "outputId": "ca1b4f4b-a550-4508-d6ff-258e062678bb"
      },
      "execution_count": null,
      "outputs": [
        {
          "output_type": "stream",
          "name": "stdout",
          "text": [
            "5.75\n"
          ]
        }
      ]
    },
    {
      "cell_type": "code",
      "source": [
        "// Author : Adolfo Centeno  \n",
        "// Fecha: 09/sep/2022\n",
        "/* \n",
        "   Descripcion:  Mostrar mensaje de bienvenida\n",
        "   Tarea:   No 1\n",
        "   Num de programa : 1\n",
        "   Fecha de entrega: 13/sep/2022\n",
        "*/\n",
        "\n",
        "System.out.println(\"Buenos dias: Adolfo\")\n"
      ],
      "metadata": {
        "colab": {
          "base_uri": "https://localhost:8080/"
        },
        "id": "RLPjVXKTew9G",
        "outputId": "9215dae0-0194-456d-88ba-2c2bb0d1fdbc"
      },
      "execution_count": null,
      "outputs": [
        {
          "output_type": "stream",
          "name": "stdout",
          "text": [
            "Buenos dias: Adolfo\n"
          ]
        }
      ]
    },
    {
      "cell_type": "code",
      "source": [
        "// Programa 5\n",
        "// Calculo de area de un circulo\n",
        "// Calculo longitud\n",
        "\n",
        "double radio, area, longitud;\n",
        "radio = 3.0;\n",
        "area = 3.141592 * (radio * radio);\n",
        "longitud = 2 * 3.141592 * radio;\n",
        "\n",
        "System.out.println(area);\n",
        "System.out.println(longitud);\n"
      ],
      "metadata": {
        "colab": {
          "base_uri": "https://localhost:8080/"
        },
        "id": "6CO8b4l61XWP",
        "outputId": "d3f7ddb4-0e60-4d1f-d238-7a30ceecfe77"
      },
      "execution_count": null,
      "outputs": [
        {
          "output_type": "stream",
          "name": "stdout",
          "text": [
            "28.274328\n",
            "18.849552000000003\n"
          ]
        }
      ]
    }
  ]
}